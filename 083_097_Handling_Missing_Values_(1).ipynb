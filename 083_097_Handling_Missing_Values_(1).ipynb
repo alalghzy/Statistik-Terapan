{
  "nbformat": 4,
  "nbformat_minor": 0,
  "metadata": {
    "colab": {
      "provenance": [],
      "collapsed_sections": [],
      "include_colab_link": true
    },
    "kernelspec": {
      "name": "python3",
      "display_name": "Python 3"
    },
    "language_info": {
      "name": "python"
    }
  },
  "cells": [
    {
      "cell_type": "markdown",
      "metadata": {
        "id": "view-in-github",
        "colab_type": "text"
      },
      "source": [
        "<a href=\"https://colab.research.google.com/github/alalghzy/Statistik-Terapan/blob/main/083_097_Handling_Missing_Values_(1).ipynb\" target=\"_parent\"><img src=\"https://colab.research.google.com/assets/colab-badge.svg\" alt=\"Open In Colab\"/></a>"
      ]
    },
    {
      "cell_type": "markdown",
      "source": [
        "# Handling Missing Values\n",
        "\n",
        "```\n",
        "Anggota Kelompok:\n",
        "G1A021083 Rayhan M. Rizki | G1A021097 Rafif Alghazy\n",
        "Kelas : Informatika A\n",
        "```\n",
        "\n",
        "\n",
        "\n",
        "\n"
      ],
      "metadata": {
        "id": "5SH2Bsc-mpDR"
      }
    },
    {
      "cell_type": "markdown",
      "source": [
        "# Penjelasan Dataset\n",
        "Dataset ini berisi data geografis kota-kota di India. Pada dataset ini, menampilkan garis lintang dan garis bujur dari setiap kota yang telah disurvei yang ada di India. Dataset ini dibuat untuk membantu semua orang yang ingin membuat plot untuk kota yang ada di India. Dataset ini diambil dari  [India Geo Dataset](https://github.com/bill-chpper/india-geo-dataset.git) dan berasal dari Kaggle [Geographic data of Indian cities](https://www.kaggle.com/datasets/yugalkishore/geographic-data-of-indian-cities?select=IND_cities_geo_data.csv.)."
      ],
      "metadata": {
        "id": "O2OMwdNa3Ixd"
      }
    },
    {
      "cell_type": "markdown",
      "source": [
        "# Menampilkan dataset dan missing values"
      ],
      "metadata": {
        "id": "WPAP_j6l6Kuu"
      }
    },
    {
      "cell_type": "code",
      "execution_count": null,
      "metadata": {
        "colab": {
          "base_uri": "https://localhost:8080/",
          "height": 206
        },
        "id": "xtDkB42GYH6b",
        "outputId": "d816edcb-dbff-4d94-bdce-b1b7d4507382"
      },
      "outputs": [
        {
          "output_type": "execute_result",
          "data": {
            "text/plain": [
              "       city  latitude  longitude country\n",
              "0    Abohar   30.1204    74.2900   India\n",
              "1   Addanki   15.8110    79.9738   India\n",
              "2  Adilabad   19.6667    78.5333   India\n",
              "3     adoni   15.6300    77.2800   India\n",
              "4  Agartala   23.8333    91.2667   India"
            ],
            "text/html": [
              "\n",
              "  <div id=\"df-6c941674-baea-498d-989c-ef29d886a7e4\">\n",
              "    <div class=\"colab-df-container\">\n",
              "      <div>\n",
              "<style scoped>\n",
              "    .dataframe tbody tr th:only-of-type {\n",
              "        vertical-align: middle;\n",
              "    }\n",
              "\n",
              "    .dataframe tbody tr th {\n",
              "        vertical-align: top;\n",
              "    }\n",
              "\n",
              "    .dataframe thead th {\n",
              "        text-align: right;\n",
              "    }\n",
              "</style>\n",
              "<table border=\"1\" class=\"dataframe\">\n",
              "  <thead>\n",
              "    <tr style=\"text-align: right;\">\n",
              "      <th></th>\n",
              "      <th>city</th>\n",
              "      <th>latitude</th>\n",
              "      <th>longitude</th>\n",
              "      <th>country</th>\n",
              "    </tr>\n",
              "  </thead>\n",
              "  <tbody>\n",
              "    <tr>\n",
              "      <th>0</th>\n",
              "      <td>Abohar</td>\n",
              "      <td>30.1204</td>\n",
              "      <td>74.2900</td>\n",
              "      <td>India</td>\n",
              "    </tr>\n",
              "    <tr>\n",
              "      <th>1</th>\n",
              "      <td>Addanki</td>\n",
              "      <td>15.8110</td>\n",
              "      <td>79.9738</td>\n",
              "      <td>India</td>\n",
              "    </tr>\n",
              "    <tr>\n",
              "      <th>2</th>\n",
              "      <td>Adilabad</td>\n",
              "      <td>19.6667</td>\n",
              "      <td>78.5333</td>\n",
              "      <td>India</td>\n",
              "    </tr>\n",
              "    <tr>\n",
              "      <th>3</th>\n",
              "      <td>adoni</td>\n",
              "      <td>15.6300</td>\n",
              "      <td>77.2800</td>\n",
              "      <td>India</td>\n",
              "    </tr>\n",
              "    <tr>\n",
              "      <th>4</th>\n",
              "      <td>Agartala</td>\n",
              "      <td>23.8333</td>\n",
              "      <td>91.2667</td>\n",
              "      <td>India</td>\n",
              "    </tr>\n",
              "  </tbody>\n",
              "</table>\n",
              "</div>\n",
              "      <button class=\"colab-df-convert\" onclick=\"convertToInteractive('df-6c941674-baea-498d-989c-ef29d886a7e4')\"\n",
              "              title=\"Convert this dataframe to an interactive table.\"\n",
              "              style=\"display:none;\">\n",
              "        \n",
              "  <svg xmlns=\"http://www.w3.org/2000/svg\" height=\"24px\"viewBox=\"0 0 24 24\"\n",
              "       width=\"24px\">\n",
              "    <path d=\"M0 0h24v24H0V0z\" fill=\"none\"/>\n",
              "    <path d=\"M18.56 5.44l.94 2.06.94-2.06 2.06-.94-2.06-.94-.94-2.06-.94 2.06-2.06.94zm-11 1L8.5 8.5l.94-2.06 2.06-.94-2.06-.94L8.5 2.5l-.94 2.06-2.06.94zm10 10l.94 2.06.94-2.06 2.06-.94-2.06-.94-.94-2.06-.94 2.06-2.06.94z\"/><path d=\"M17.41 7.96l-1.37-1.37c-.4-.4-.92-.59-1.43-.59-.52 0-1.04.2-1.43.59L10.3 9.45l-7.72 7.72c-.78.78-.78 2.05 0 2.83L4 21.41c.39.39.9.59 1.41.59.51 0 1.02-.2 1.41-.59l7.78-7.78 2.81-2.81c.8-.78.8-2.07 0-2.86zM5.41 20L4 18.59l7.72-7.72 1.47 1.35L5.41 20z\"/>\n",
              "  </svg>\n",
              "      </button>\n",
              "      \n",
              "  <style>\n",
              "    .colab-df-container {\n",
              "      display:flex;\n",
              "      flex-wrap:wrap;\n",
              "      gap: 12px;\n",
              "    }\n",
              "\n",
              "    .colab-df-convert {\n",
              "      background-color: #E8F0FE;\n",
              "      border: none;\n",
              "      border-radius: 50%;\n",
              "      cursor: pointer;\n",
              "      display: none;\n",
              "      fill: #1967D2;\n",
              "      height: 32px;\n",
              "      padding: 0 0 0 0;\n",
              "      width: 32px;\n",
              "    }\n",
              "\n",
              "    .colab-df-convert:hover {\n",
              "      background-color: #E2EBFA;\n",
              "      box-shadow: 0px 1px 2px rgba(60, 64, 67, 0.3), 0px 1px 3px 1px rgba(60, 64, 67, 0.15);\n",
              "      fill: #174EA6;\n",
              "    }\n",
              "\n",
              "    [theme=dark] .colab-df-convert {\n",
              "      background-color: #3B4455;\n",
              "      fill: #D2E3FC;\n",
              "    }\n",
              "\n",
              "    [theme=dark] .colab-df-convert:hover {\n",
              "      background-color: #434B5C;\n",
              "      box-shadow: 0px 1px 3px 1px rgba(0, 0, 0, 0.15);\n",
              "      filter: drop-shadow(0px 1px 2px rgba(0, 0, 0, 0.3));\n",
              "      fill: #FFFFFF;\n",
              "    }\n",
              "  </style>\n",
              "\n",
              "      <script>\n",
              "        const buttonEl =\n",
              "          document.querySelector('#df-6c941674-baea-498d-989c-ef29d886a7e4 button.colab-df-convert');\n",
              "        buttonEl.style.display =\n",
              "          google.colab.kernel.accessAllowed ? 'block' : 'none';\n",
              "\n",
              "        async function convertToInteractive(key) {\n",
              "          const element = document.querySelector('#df-6c941674-baea-498d-989c-ef29d886a7e4');\n",
              "          const dataTable =\n",
              "            await google.colab.kernel.invokeFunction('convertToInteractive',\n",
              "                                                     [key], {});\n",
              "          if (!dataTable) return;\n",
              "\n",
              "          const docLinkHtml = 'Like what you see? Visit the ' +\n",
              "            '<a target=\"_blank\" href=https://colab.research.google.com/notebooks/data_table.ipynb>data table notebook</a>'\n",
              "            + ' to learn more about interactive tables.';\n",
              "          element.innerHTML = '';\n",
              "          dataTable['output_type'] = 'display_data';\n",
              "          await google.colab.output.renderOutput(dataTable, element);\n",
              "          const docLink = document.createElement('div');\n",
              "          docLink.innerHTML = docLinkHtml;\n",
              "          element.appendChild(docLink);\n",
              "        }\n",
              "      </script>\n",
              "    </div>\n",
              "  </div>\n",
              "  "
            ]
          },
          "metadata": {},
          "execution_count": 4
        }
      ],
      "source": [
        "#library untuk missing values\n",
        "import numpy as np\n",
        "import pandas as pd\n",
        "#mengambil dataset dari url, serta menampilkan dataset 5 record teratas dari dataset yang telah di load\n",
        "data = pd.read_csv('https://raw.githubusercontent.com/bill-chpper/india-geo-dataset/main/India_cities_geo_data.csv')\n",
        "data.head(5)"
      ]
    },
    {
      "cell_type": "code",
      "source": [
        "#menampilkan jumlah missing values pada dataset\n",
        "data.isna().sum()"
      ],
      "metadata": {
        "colab": {
          "base_uri": "https://localhost:8080/"
        },
        "id": "CPEpUdrFZFaH",
        "outputId": "711c3721-1ea4-4336-98be-0cbac13b4249"
      },
      "execution_count": null,
      "outputs": [
        {
          "output_type": "execute_result",
          "data": {
            "text/plain": [
              "city         0\n",
              "latitude     5\n",
              "longitude    0\n",
              "country      0\n",
              "dtype: int64"
            ]
          },
          "metadata": {},
          "execution_count": 5
        }
      ]
    },
    {
      "cell_type": "code",
      "source": [
        "#mengecek apakah ada missing values pada dataset\n",
        "data.isna().any()"
      ],
      "metadata": {
        "colab": {
          "base_uri": "https://localhost:8080/"
        },
        "id": "nHY139x0nWjt",
        "outputId": "34b446c0-f502-42f0-b610-52696eb92c31"
      },
      "execution_count": null,
      "outputs": [
        {
          "output_type": "execute_result",
          "data": {
            "text/plain": [
              "city         False\n",
              "latitude      True\n",
              "longitude    False\n",
              "country      False\n",
              "dtype: bool"
            ]
          },
          "metadata": {},
          "execution_count": 6
        }
      ]
    },
    {
      "cell_type": "markdown",
      "source": [
        "# Handling missing values dengan drop atau hapus"
      ],
      "metadata": {
        "id": "C-uSW8wGnR_v"
      }
    },
    {
      "cell_type": "code",
      "source": [
        "#menghapus missing values pada dataset\n",
        "data.dropna(inplace=True)"
      ],
      "metadata": {
        "id": "V0nI332bcoPD"
      },
      "execution_count": null,
      "outputs": []
    },
    {
      "cell_type": "code",
      "source": [
        "#menampilkan dan mengecek kembali dataset\n",
        "print(data.isna().sum(), '\\n\\n',data.isna().any())"
      ],
      "metadata": {
        "colab": {
          "base_uri": "https://localhost:8080/"
        },
        "id": "UAC7sQUHnqQc",
        "outputId": "d586fb86-fae0-4f15-d7bc-5281d6be602f"
      },
      "execution_count": null,
      "outputs": [
        {
          "output_type": "stream",
          "name": "stdout",
          "text": [
            "city         0\n",
            "latitude     0\n",
            "longitude    0\n",
            "country      0\n",
            "dtype: int64 \n",
            "\n",
            " city         False\n",
            "latitude     False\n",
            "longitude    False\n",
            "country      False\n",
            "dtype: bool\n"
          ]
        }
      ]
    },
    {
      "cell_type": "markdown",
      "source": [
        "Dapat terlihat missing values pada dataset sudah tidak ada lagi karena missing values tadi dihandling dengan cara dihapus."
      ],
      "metadata": {
        "id": "aCjWkAfcoFwo"
      }
    },
    {
      "cell_type": "markdown",
      "source": [
        "# Penangan missing values dengan imputation"
      ],
      "metadata": {
        "id": "vDHYf5ER6s8W"
      }
    },
    {
      "cell_type": "code",
      "source": [
        "#menampilkan jumlah missing values pada dataset\n",
        "data = pd.read_csv('https://raw.githubusercontent.com/bill-chpper/india-geo-dataset/main/India_cities_geo_data.csv')\n",
        "print(data.isna().sum(), '\\n\\n',data.isna().any())\n"
      ],
      "metadata": {
        "colab": {
          "base_uri": "https://localhost:8080/"
        },
        "id": "nWD4N71HPbAC",
        "outputId": "37a716f2-5306-42c7-9aa5-f6631dccf7ae"
      },
      "execution_count": null,
      "outputs": [
        {
          "output_type": "stream",
          "name": "stdout",
          "text": [
            "city         0\n",
            "latitude     5\n",
            "longitude    0\n",
            "country      0\n",
            "dtype: int64 \n",
            "\n",
            " city         False\n",
            "latitude      True\n",
            "longitude    False\n",
            "country      False\n",
            "dtype: bool\n"
          ]
        }
      ]
    },
    {
      "cell_type": "code",
      "source": [
        "#mengambil dataset dari url, serta mengganti nilai pada missing values dengan nilai rata-rata atau mean pada dataset\n",
        "data[\"latitude\"] = data[\"latitude\"].replace(np.NaN, data[\"latitude\"].mean())\n",
        "print(data.isna().sum(), '\\n\\n',data.isna().any())"
      ],
      "metadata": {
        "colab": {
          "base_uri": "https://localhost:8080/"
        },
        "id": "qVm6RyMa7CTf",
        "outputId": "12f4436d-a905-4512-c2ff-5d5e33670313"
      },
      "execution_count": null,
      "outputs": [
        {
          "output_type": "stream",
          "name": "stdout",
          "text": [
            "city         0\n",
            "latitude     0\n",
            "longitude    0\n",
            "country      0\n",
            "dtype: int64 \n",
            "\n",
            " city         False\n",
            "latitude     False\n",
            "longitude    False\n",
            "country      False\n",
            "dtype: bool\n"
          ]
        }
      ]
    },
    {
      "cell_type": "code",
      "source": [
        "#mengganti nilai pada missing values dengan nilai tengah atau median dataset\n",
        "data[\"latitude\"] = data[\"latitude\"].replace(np.NaN, data[\"latitude\"].median())\n",
        "print(data.isna().sum(), '\\n\\n',data.isna().any())"
      ],
      "metadata": {
        "colab": {
          "base_uri": "https://localhost:8080/"
        },
        "id": "h7mNimmWxzQM",
        "outputId": "54b84a6d-fc27-4474-93a1-9398e20e1055"
      },
      "execution_count": null,
      "outputs": [
        {
          "output_type": "stream",
          "name": "stdout",
          "text": [
            "city         0\n",
            "latitude     0\n",
            "longitude    0\n",
            "country      0\n",
            "dtype: int64 \n",
            "\n",
            " city         False\n",
            "latitude     False\n",
            "longitude    False\n",
            "country      False\n",
            "dtype: bool\n"
          ]
        }
      ]
    },
    {
      "cell_type": "code",
      "source": [
        "#mengganti nilai pada missing values dengan nilai terbanyak muncul atau modus\n",
        "modus = data['latitude'].mode()[0]\n",
        "data['latitude'] = data['latitude'].fillna(modus)\n",
        "data['latitude'].isna().sum()\n",
        "print(data.isna().sum(), '\\n\\n',data.isna().any())"
      ],
      "metadata": {
        "colab": {
          "base_uri": "https://localhost:8080/"
        },
        "id": "JpKHu70z0ish",
        "outputId": "2c74d0db-15e3-4547-bf8e-ced720eb77ba"
      },
      "execution_count": null,
      "outputs": [
        {
          "output_type": "stream",
          "name": "stdout",
          "text": [
            "city         0\n",
            "latitude     0\n",
            "longitude    0\n",
            "country      0\n",
            "dtype: int64 \n",
            "\n",
            " city         False\n",
            "latitude     False\n",
            "longitude    False\n",
            "country      False\n",
            "dtype: bool\n"
          ]
        }
      ]
    },
    {
      "cell_type": "code",
      "source": [
        "#missing values pada dataset telah dihandle sehingga data pada dataset telah terubah\n",
        "data.head(500)"
      ],
      "metadata": {
        "colab": {
          "base_uri": "https://localhost:8080/",
          "height": 424
        },
        "id": "zTLjSDSC17Y1",
        "outputId": "53abd909-f660-4278-826f-dde48b764506"
      },
      "execution_count": null,
      "outputs": [
        {
          "output_type": "execute_result",
          "data": {
            "text/plain": [
              "           city  latitude  longitude country\n",
              "0        Abohar   30.1204    74.2900   India\n",
              "1       Addanki   15.8110    79.9738   India\n",
              "2      Adilabad   19.6667    78.5333   India\n",
              "3         adoni   15.6300    77.2800   India\n",
              "4      Agartala   23.8333    91.2667   India\n",
              "..          ...       ...        ...     ...\n",
              "407   Ernakulam    9.9800    76.2900   India\n",
              "408    Gurugram   28.4500    77.0200   India\n",
              "409    Guwahati   26.1100    91.7000   India\n",
              "410  Jorapokhar   23.7000    86.4130   India\n",
              "411     Talcher   20.9500    85.2100   India\n",
              "\n",
              "[412 rows x 4 columns]"
            ],
            "text/html": [
              "\n",
              "  <div id=\"df-54c2b861-7506-44c9-baca-df967d8d334f\">\n",
              "    <div class=\"colab-df-container\">\n",
              "      <div>\n",
              "<style scoped>\n",
              "    .dataframe tbody tr th:only-of-type {\n",
              "        vertical-align: middle;\n",
              "    }\n",
              "\n",
              "    .dataframe tbody tr th {\n",
              "        vertical-align: top;\n",
              "    }\n",
              "\n",
              "    .dataframe thead th {\n",
              "        text-align: right;\n",
              "    }\n",
              "</style>\n",
              "<table border=\"1\" class=\"dataframe\">\n",
              "  <thead>\n",
              "    <tr style=\"text-align: right;\">\n",
              "      <th></th>\n",
              "      <th>city</th>\n",
              "      <th>latitude</th>\n",
              "      <th>longitude</th>\n",
              "      <th>country</th>\n",
              "    </tr>\n",
              "  </thead>\n",
              "  <tbody>\n",
              "    <tr>\n",
              "      <th>0</th>\n",
              "      <td>Abohar</td>\n",
              "      <td>30.1204</td>\n",
              "      <td>74.2900</td>\n",
              "      <td>India</td>\n",
              "    </tr>\n",
              "    <tr>\n",
              "      <th>1</th>\n",
              "      <td>Addanki</td>\n",
              "      <td>15.8110</td>\n",
              "      <td>79.9738</td>\n",
              "      <td>India</td>\n",
              "    </tr>\n",
              "    <tr>\n",
              "      <th>2</th>\n",
              "      <td>Adilabad</td>\n",
              "      <td>19.6667</td>\n",
              "      <td>78.5333</td>\n",
              "      <td>India</td>\n",
              "    </tr>\n",
              "    <tr>\n",
              "      <th>3</th>\n",
              "      <td>adoni</td>\n",
              "      <td>15.6300</td>\n",
              "      <td>77.2800</td>\n",
              "      <td>India</td>\n",
              "    </tr>\n",
              "    <tr>\n",
              "      <th>4</th>\n",
              "      <td>Agartala</td>\n",
              "      <td>23.8333</td>\n",
              "      <td>91.2667</td>\n",
              "      <td>India</td>\n",
              "    </tr>\n",
              "    <tr>\n",
              "      <th>...</th>\n",
              "      <td>...</td>\n",
              "      <td>...</td>\n",
              "      <td>...</td>\n",
              "      <td>...</td>\n",
              "    </tr>\n",
              "    <tr>\n",
              "      <th>407</th>\n",
              "      <td>Ernakulam</td>\n",
              "      <td>9.9800</td>\n",
              "      <td>76.2900</td>\n",
              "      <td>India</td>\n",
              "    </tr>\n",
              "    <tr>\n",
              "      <th>408</th>\n",
              "      <td>Gurugram</td>\n",
              "      <td>28.4500</td>\n",
              "      <td>77.0200</td>\n",
              "      <td>India</td>\n",
              "    </tr>\n",
              "    <tr>\n",
              "      <th>409</th>\n",
              "      <td>Guwahati</td>\n",
              "      <td>26.1100</td>\n",
              "      <td>91.7000</td>\n",
              "      <td>India</td>\n",
              "    </tr>\n",
              "    <tr>\n",
              "      <th>410</th>\n",
              "      <td>Jorapokhar</td>\n",
              "      <td>23.7000</td>\n",
              "      <td>86.4130</td>\n",
              "      <td>India</td>\n",
              "    </tr>\n",
              "    <tr>\n",
              "      <th>411</th>\n",
              "      <td>Talcher</td>\n",
              "      <td>20.9500</td>\n",
              "      <td>85.2100</td>\n",
              "      <td>India</td>\n",
              "    </tr>\n",
              "  </tbody>\n",
              "</table>\n",
              "<p>412 rows × 4 columns</p>\n",
              "</div>\n",
              "      <button class=\"colab-df-convert\" onclick=\"convertToInteractive('df-54c2b861-7506-44c9-baca-df967d8d334f')\"\n",
              "              title=\"Convert this dataframe to an interactive table.\"\n",
              "              style=\"display:none;\">\n",
              "        \n",
              "  <svg xmlns=\"http://www.w3.org/2000/svg\" height=\"24px\"viewBox=\"0 0 24 24\"\n",
              "       width=\"24px\">\n",
              "    <path d=\"M0 0h24v24H0V0z\" fill=\"none\"/>\n",
              "    <path d=\"M18.56 5.44l.94 2.06.94-2.06 2.06-.94-2.06-.94-.94-2.06-.94 2.06-2.06.94zm-11 1L8.5 8.5l.94-2.06 2.06-.94-2.06-.94L8.5 2.5l-.94 2.06-2.06.94zm10 10l.94 2.06.94-2.06 2.06-.94-2.06-.94-.94-2.06-.94 2.06-2.06.94z\"/><path d=\"M17.41 7.96l-1.37-1.37c-.4-.4-.92-.59-1.43-.59-.52 0-1.04.2-1.43.59L10.3 9.45l-7.72 7.72c-.78.78-.78 2.05 0 2.83L4 21.41c.39.39.9.59 1.41.59.51 0 1.02-.2 1.41-.59l7.78-7.78 2.81-2.81c.8-.78.8-2.07 0-2.86zM5.41 20L4 18.59l7.72-7.72 1.47 1.35L5.41 20z\"/>\n",
              "  </svg>\n",
              "      </button>\n",
              "      \n",
              "  <style>\n",
              "    .colab-df-container {\n",
              "      display:flex;\n",
              "      flex-wrap:wrap;\n",
              "      gap: 12px;\n",
              "    }\n",
              "\n",
              "    .colab-df-convert {\n",
              "      background-color: #E8F0FE;\n",
              "      border: none;\n",
              "      border-radius: 50%;\n",
              "      cursor: pointer;\n",
              "      display: none;\n",
              "      fill: #1967D2;\n",
              "      height: 32px;\n",
              "      padding: 0 0 0 0;\n",
              "      width: 32px;\n",
              "    }\n",
              "\n",
              "    .colab-df-convert:hover {\n",
              "      background-color: #E2EBFA;\n",
              "      box-shadow: 0px 1px 2px rgba(60, 64, 67, 0.3), 0px 1px 3px 1px rgba(60, 64, 67, 0.15);\n",
              "      fill: #174EA6;\n",
              "    }\n",
              "\n",
              "    [theme=dark] .colab-df-convert {\n",
              "      background-color: #3B4455;\n",
              "      fill: #D2E3FC;\n",
              "    }\n",
              "\n",
              "    [theme=dark] .colab-df-convert:hover {\n",
              "      background-color: #434B5C;\n",
              "      box-shadow: 0px 1px 3px 1px rgba(0, 0, 0, 0.15);\n",
              "      filter: drop-shadow(0px 1px 2px rgba(0, 0, 0, 0.3));\n",
              "      fill: #FFFFFF;\n",
              "    }\n",
              "  </style>\n",
              "\n",
              "      <script>\n",
              "        const buttonEl =\n",
              "          document.querySelector('#df-54c2b861-7506-44c9-baca-df967d8d334f button.colab-df-convert');\n",
              "        buttonEl.style.display =\n",
              "          google.colab.kernel.accessAllowed ? 'block' : 'none';\n",
              "\n",
              "        async function convertToInteractive(key) {\n",
              "          const element = document.querySelector('#df-54c2b861-7506-44c9-baca-df967d8d334f');\n",
              "          const dataTable =\n",
              "            await google.colab.kernel.invokeFunction('convertToInteractive',\n",
              "                                                     [key], {});\n",
              "          if (!dataTable) return;\n",
              "\n",
              "          const docLinkHtml = 'Like what you see? Visit the ' +\n",
              "            '<a target=\"_blank\" href=https://colab.research.google.com/notebooks/data_table.ipynb>data table notebook</a>'\n",
              "            + ' to learn more about interactive tables.';\n",
              "          element.innerHTML = '';\n",
              "          dataTable['output_type'] = 'display_data';\n",
              "          await google.colab.output.renderOutput(dataTable, element);\n",
              "          const docLink = document.createElement('div');\n",
              "          docLink.innerHTML = docLinkHtml;\n",
              "          element.appendChild(docLink);\n",
              "        }\n",
              "      </script>\n",
              "    </div>\n",
              "  </div>\n",
              "  "
            ]
          },
          "metadata": {},
          "execution_count": 18
        }
      ]
    }
  ]
}