{
  "nbformat": 4,
  "nbformat_minor": 0,
  "metadata": {
    "colab": {
      "provenance": [],
      "collapsed_sections": [],
      "include_colab_link": true
    },
    "kernelspec": {
      "name": "python3",
      "display_name": "Python 3"
    },
    "language_info": {
      "name": "python"
    }
  },
  "cells": [
    {
      "cell_type": "markdown",
      "metadata": {
        "id": "view-in-github",
        "colab_type": "text"
      },
      "source": [
        "<a href=\"https://colab.research.google.com/github/alalghzy/Statistik-Terapan/blob/main/083_097_Handling_Outliers_(1).ipynb\" target=\"_parent\"><img src=\"https://colab.research.google.com/assets/colab-badge.svg\" alt=\"Open In Colab\"/></a>"
      ]
    },
    {
      "cell_type": "markdown",
      "source": [
        "# Handling Outliers and Correlation Analysis\n",
        "\n",
        "```\n",
        "Anggota Kelompok:\n",
        "G1A021083 Rayhan M. Rizki | G1A021097 Rafif Alghazy\n",
        "Kelas : Informatika A\n",
        "```\n",
        "\n",
        "\n",
        "\n",
        "\n"
      ],
      "metadata": {
        "id": "4UmP40Myk5Kw"
      }
    },
    {
      "cell_type": "markdown",
      "source": [
        "# Penjelasan Dataset\n",
        "Dataset ini berisi data geografis kota-kota di India. Pada dataset ini, menampilkan garis lintang dan garis bujur dari setiap kota yang telah disurvei yang ada di India. Dataset ini dibuat untuk membantu semua orang yang ingin membuat plot untuk kota yang ada di India. Dataset ini diambil dari  [India Geo Dataset](https://github.com/bill-chpper/india-geo-dataset.git) dan berasal dari Kaggle [Geographic data of Indian cities](https://www.kaggle.com/datasets/yugalkishore/geographic-data-of-indian-cities?select=IND_cities_geo_data.csv.)."
      ],
      "metadata": {
        "id": "O2OMwdNa3Ixd"
      }
    },
    {
      "cell_type": "code",
      "execution_count": null,
      "metadata": {
        "colab": {
          "base_uri": "https://localhost:8080/",
          "height": 206
        },
        "id": "4K4m41Q2li1H",
        "outputId": "1d34e29a-683d-4bb7-fda0-d7bdcea1e53e"
      },
      "outputs": [
        {
          "output_type": "execute_result",
          "data": {
            "text/plain": [
              "       city  latitude  longitude country\n",
              "0    Abohar   30.1204    74.2900   India\n",
              "1   Addanki   15.8110    79.9738   India\n",
              "2  Adilabad   19.6667    78.5333   India\n",
              "3     adoni   15.6300    77.2800   India\n",
              "4  Agartala   23.8333    91.2667   India"
            ],
            "text/html": [
              "\n",
              "  <div id=\"df-18851754-7f23-45b8-8205-5914219468a2\">\n",
              "    <div class=\"colab-df-container\">\n",
              "      <div>\n",
              "<style scoped>\n",
              "    .dataframe tbody tr th:only-of-type {\n",
              "        vertical-align: middle;\n",
              "    }\n",
              "\n",
              "    .dataframe tbody tr th {\n",
              "        vertical-align: top;\n",
              "    }\n",
              "\n",
              "    .dataframe thead th {\n",
              "        text-align: right;\n",
              "    }\n",
              "</style>\n",
              "<table border=\"1\" class=\"dataframe\">\n",
              "  <thead>\n",
              "    <tr style=\"text-align: right;\">\n",
              "      <th></th>\n",
              "      <th>city</th>\n",
              "      <th>latitude</th>\n",
              "      <th>longitude</th>\n",
              "      <th>country</th>\n",
              "    </tr>\n",
              "  </thead>\n",
              "  <tbody>\n",
              "    <tr>\n",
              "      <th>0</th>\n",
              "      <td>Abohar</td>\n",
              "      <td>30.1204</td>\n",
              "      <td>74.2900</td>\n",
              "      <td>India</td>\n",
              "    </tr>\n",
              "    <tr>\n",
              "      <th>1</th>\n",
              "      <td>Addanki</td>\n",
              "      <td>15.8110</td>\n",
              "      <td>79.9738</td>\n",
              "      <td>India</td>\n",
              "    </tr>\n",
              "    <tr>\n",
              "      <th>2</th>\n",
              "      <td>Adilabad</td>\n",
              "      <td>19.6667</td>\n",
              "      <td>78.5333</td>\n",
              "      <td>India</td>\n",
              "    </tr>\n",
              "    <tr>\n",
              "      <th>3</th>\n",
              "      <td>adoni</td>\n",
              "      <td>15.6300</td>\n",
              "      <td>77.2800</td>\n",
              "      <td>India</td>\n",
              "    </tr>\n",
              "    <tr>\n",
              "      <th>4</th>\n",
              "      <td>Agartala</td>\n",
              "      <td>23.8333</td>\n",
              "      <td>91.2667</td>\n",
              "      <td>India</td>\n",
              "    </tr>\n",
              "  </tbody>\n",
              "</table>\n",
              "</div>\n",
              "      <button class=\"colab-df-convert\" onclick=\"convertToInteractive('df-18851754-7f23-45b8-8205-5914219468a2')\"\n",
              "              title=\"Convert this dataframe to an interactive table.\"\n",
              "              style=\"display:none;\">\n",
              "        \n",
              "  <svg xmlns=\"http://www.w3.org/2000/svg\" height=\"24px\"viewBox=\"0 0 24 24\"\n",
              "       width=\"24px\">\n",
              "    <path d=\"M0 0h24v24H0V0z\" fill=\"none\"/>\n",
              "    <path d=\"M18.56 5.44l.94 2.06.94-2.06 2.06-.94-2.06-.94-.94-2.06-.94 2.06-2.06.94zm-11 1L8.5 8.5l.94-2.06 2.06-.94-2.06-.94L8.5 2.5l-.94 2.06-2.06.94zm10 10l.94 2.06.94-2.06 2.06-.94-2.06-.94-.94-2.06-.94 2.06-2.06.94z\"/><path d=\"M17.41 7.96l-1.37-1.37c-.4-.4-.92-.59-1.43-.59-.52 0-1.04.2-1.43.59L10.3 9.45l-7.72 7.72c-.78.78-.78 2.05 0 2.83L4 21.41c.39.39.9.59 1.41.59.51 0 1.02-.2 1.41-.59l7.78-7.78 2.81-2.81c.8-.78.8-2.07 0-2.86zM5.41 20L4 18.59l7.72-7.72 1.47 1.35L5.41 20z\"/>\n",
              "  </svg>\n",
              "      </button>\n",
              "      \n",
              "  <style>\n",
              "    .colab-df-container {\n",
              "      display:flex;\n",
              "      flex-wrap:wrap;\n",
              "      gap: 12px;\n",
              "    }\n",
              "\n",
              "    .colab-df-convert {\n",
              "      background-color: #E8F0FE;\n",
              "      border: none;\n",
              "      border-radius: 50%;\n",
              "      cursor: pointer;\n",
              "      display: none;\n",
              "      fill: #1967D2;\n",
              "      height: 32px;\n",
              "      padding: 0 0 0 0;\n",
              "      width: 32px;\n",
              "    }\n",
              "\n",
              "    .colab-df-convert:hover {\n",
              "      background-color: #E2EBFA;\n",
              "      box-shadow: 0px 1px 2px rgba(60, 64, 67, 0.3), 0px 1px 3px 1px rgba(60, 64, 67, 0.15);\n",
              "      fill: #174EA6;\n",
              "    }\n",
              "\n",
              "    [theme=dark] .colab-df-convert {\n",
              "      background-color: #3B4455;\n",
              "      fill: #D2E3FC;\n",
              "    }\n",
              "\n",
              "    [theme=dark] .colab-df-convert:hover {\n",
              "      background-color: #434B5C;\n",
              "      box-shadow: 0px 1px 3px 1px rgba(0, 0, 0, 0.15);\n",
              "      filter: drop-shadow(0px 1px 2px rgba(0, 0, 0, 0.3));\n",
              "      fill: #FFFFFF;\n",
              "    }\n",
              "  </style>\n",
              "\n",
              "      <script>\n",
              "        const buttonEl =\n",
              "          document.querySelector('#df-18851754-7f23-45b8-8205-5914219468a2 button.colab-df-convert');\n",
              "        buttonEl.style.display =\n",
              "          google.colab.kernel.accessAllowed ? 'block' : 'none';\n",
              "\n",
              "        async function convertToInteractive(key) {\n",
              "          const element = document.querySelector('#df-18851754-7f23-45b8-8205-5914219468a2');\n",
              "          const dataTable =\n",
              "            await google.colab.kernel.invokeFunction('convertToInteractive',\n",
              "                                                     [key], {});\n",
              "          if (!dataTable) return;\n",
              "\n",
              "          const docLinkHtml = 'Like what you see? Visit the ' +\n",
              "            '<a target=\"_blank\" href=https://colab.research.google.com/notebooks/data_table.ipynb>data table notebook</a>'\n",
              "            + ' to learn more about interactive tables.';\n",
              "          element.innerHTML = '';\n",
              "          dataTable['output_type'] = 'display_data';\n",
              "          await google.colab.output.renderOutput(dataTable, element);\n",
              "          const docLink = document.createElement('div');\n",
              "          docLink.innerHTML = docLinkHtml;\n",
              "          element.appendChild(docLink);\n",
              "        }\n",
              "      </script>\n",
              "    </div>\n",
              "  </div>\n",
              "  "
            ]
          },
          "metadata": {},
          "execution_count": 12
        }
      ],
      "source": [
        "#library yang digunakan untuk handling data outliers\n",
        "import seaborn as sns\n",
        "import pandas as pd\n",
        "import numpy as np\n",
        "import matplotlib.pyplot as plt\n",
        "import warnings\n",
        "import math\n",
        "#mengambil dataset dari url, serta menampilkan dataset 5 record teratas dari dataset yang telah di load\n",
        "df = pd.read_csv('https://raw.githubusercontent.com/bill-chpper/india-geo-dataset/main/India_cities_geo_data.csv')\n",
        "df.head()"
      ]
    },
    {
      "cell_type": "markdown",
      "source": [
        "#  Detecting and handling outliers using scatterplot and trimming\n",
        "Code ini akan melakukan detecting outliers menggunakan scatterplot pada dataset kolom longitude, kemudian akan melakukan handling outliers menggunakan trimming. "
      ],
      "metadata": {
        "id": "OEjjAyQxqTOE"
      }
    },
    {
      "cell_type": "code",
      "source": [
        "#detecting outliers menggunakan scatterplot\n",
        "fig, ax = plt.subplots(figsize=(12,6))\n",
        "ax.scatter(df['longitude'], df['latitude'])\n",
        "ax.set_xlabel('longitude')\n",
        "ax.set_ylabel('latitude')\n",
        "plt.show()"
      ],
      "metadata": {
        "colab": {
          "base_uri": "https://localhost:8080/",
          "height": 388
        },
        "id": "2tlJSiu7MG6S",
        "outputId": "27d8e156-0220-4876-f5a9-42298537ac05"
      },
      "execution_count": null,
      "outputs": [
        {
          "output_type": "display_data",
          "data": {
            "text/plain": [
              "<Figure size 864x432 with 1 Axes>"
            ],
            "image/png": "[encoded data removed]"
          },
          "metadata": {
            "needs_background": "light"
          }
        }
      ]
    },
    {
      "cell_type": "code",
      "source": [
        "#menghapus outliers dengan trimming\n",
        "index = df[(df['latitude'] >= 100)|(df['latitude'] <= 18)].index\n",
        "df.drop(index, inplace=True)\n",
        "index = df[(df['longitude'] >= 83)|(df['longitude'] <= 76.5)].index\n",
        "df.drop(index, inplace=True)\n",
        "\n",
        "df['longitude'].describe(), df['latitude'].describe()"
      ],
      "metadata": {
        "colab": {
          "base_uri": "https://localhost:8080/"
        },
        "id": "RjO7G8XwN3yg",
        "outputId": "ad5d24fc-eaf3-49f8-82b2-2af88695dd31"
      },
      "execution_count": null,
      "outputs": [
        {
          "output_type": "execute_result",
          "data": {
            "text/plain": [
              "(count    92.000000\n",
              " mean     78.674463\n",
              " std       1.572055\n",
              " min      76.566700\n",
              " 25%      77.416700\n",
              " 50%      78.320000\n",
              " 75%      79.469850\n",
              " max      82.683300\n",
              " Name: longitude, dtype: float64, count    88.000000\n",
              " mean     25.032281\n",
              " std       4.257543\n",
              " min      18.316700\n",
              " 25%      20.649975\n",
              " 50%      26.767950\n",
              " 75%      28.645000\n",
              " max      31.103300\n",
              " Name: latitude, dtype: float64)"
            ]
          },
          "metadata": {},
          "execution_count": 14
        }
      ]
    },
    {
      "cell_type": "code",
      "source": [
        "#mengecek kembali outliers yang ada pada data\n",
        "fig, ax = plt.subplots(figsize=(12,6))\n",
        "ax.scatter(df['longitude'], df['latitude'])\n",
        "ax.set_xlabel('longitude')\n",
        "ax.set_ylabel('latitude')\n",
        "plt.show()"
      ],
      "metadata": {
        "colab": {
          "base_uri": "https://localhost:8080/",
          "height": 388
        },
        "id": "Et-oGMNzMcMW",
        "outputId": "e0466979-8f76-4e1c-a264-ce5dee0a06cb"
      },
      "execution_count": null,
      "outputs": [
        {
          "output_type": "display_data",
          "data": {
            "text/plain": [
              "<Figure size 864x432 with 1 Axes>"
            ],
            "image/png": "[encoded data removed]"
          },
          "metadata": {
            "needs_background": "light"
          }
        }
      ]
    },
    {
      "cell_type": "markdown",
      "source": [
        "#  Detecting outliers using zscores and handling outliers using median imputation\n",
        "Pada code ini akan melakukan detecting outliers menggunakan zscores pada dataset kolom latitude. Kemudian outliers akan ditangani menggunakan metode replacing outliers with median values."
      ],
      "metadata": {
        "id": "fJ1vHE5dpTYw"
      }
    },
    {
      "cell_type": "code",
      "source": [
        "#detecting outliers using zscores\n",
        "df = pd.read_csv('https://raw.githubusercontent.com/bill-chpper/india-geo-dataset/main/India_cities_geo_data.csv')\n",
        "mean = np.mean(df.latitude)\n",
        "std = np.std(df.latitude)\n",
        "threshold = 3\n",
        "outlier = []\n",
        "for i in df.latitude:\n",
        "    z = (i-mean)/std\n",
        "    if z > threshold:\n",
        "        outlier.append(i)\n",
        "print('outlier in dataset is', outlier)"
      ],
      "metadata": {
        "colab": {
          "base_uri": "https://localhost:8080/"
        },
        "id": "VWvX4GmGWGJL",
        "outputId": "574faffa-c21f-45d6-89b9-9b0789498719"
      },
      "execution_count": null,
      "outputs": [
        {
          "output_type": "stream",
          "name": "stdout",
          "text": [
            "outlier in dataset is [1290.0]\n"
          ]
        }
      ]
    },
    {
      "cell_type": "markdown",
      "source": [
        "Setelah mendeteksi outliers pada dataset kolom latitude. Terlihat terdapat 1 outliers, yaitu 1290.0 yang ada pada dataset kolom latitude."
      ],
      "metadata": {
        "id": "LM4k2qXKqXK1"
      }
    },
    {
      "cell_type": "code",
      "source": [
        "#handling outliers menggunakan metode replacing outliers with median values\n",
        "print(df['latitude'].quantile(0.10)) \n",
        "print(df['latitude'].quantile(0.90)) \n",
        "df['latitude'] = np.where(df['latitude'] > 23,63, df['latitude']) #23 dan 63 merupakan median dari persentil\n",
        "df.latitude"
      ],
      "metadata": {
        "colab": {
          "base_uri": "https://localhost:8080/"
        },
        "id": "fvWRcXbMWV50",
        "outputId": "6f6f9dcd-a0c8-4854-f9d4-320f5b4a993a"
      },
      "execution_count": null,
      "outputs": [
        {
          "output_type": "stream",
          "name": "stdout",
          "text": [
            "13.0515\n",
            "28.662679999999998\n"
          ]
        },
        {
          "output_type": "execute_result",
          "data": {
            "text/plain": [
              "0      63.0000\n",
              "1      15.8110\n",
              "2      19.6667\n",
              "3      15.6300\n",
              "4      63.0000\n",
              "        ...   \n",
              "407     9.9800\n",
              "408    63.0000\n",
              "409    63.0000\n",
              "410    63.0000\n",
              "411    20.9500\n",
              "Name: latitude, Length: 412, dtype: float64"
            ]
          },
          "metadata": {},
          "execution_count": 17
        }
      ]
    },
    {
      "cell_type": "code",
      "source": [
        "#mengecek kembali outliers pada dataset\n",
        "mean = np.mean(df.latitude)\n",
        "std = np.std(df.latitude)\n",
        "threshold = 3\n",
        "outlier = []\n",
        "for i in df.latitude:\n",
        "    z = (i-mean)/std\n",
        "    if z > threshold:\n",
        "        outlier.append(i)\n",
        "print('outlier in dataset is', outlier)"
      ],
      "metadata": {
        "colab": {
          "base_uri": "https://localhost:8080/"
        },
        "id": "H451vaYGTqvy",
        "outputId": "9d7b9117-8029-4691-cf40-c46a2fe2673b"
      },
      "execution_count": null,
      "outputs": [
        {
          "output_type": "stream",
          "name": "stdout",
          "text": [
            "outlier in dataset is []\n"
          ]
        }
      ]
    },
    {
      "cell_type": "markdown",
      "source": [
        "Dapat terlihat bahwa outliers pada dataset kolom latitude sudah tidak ada dan nilainya telah diganti dengan median dataset."
      ],
      "metadata": {
        "id": "1Z3eWFptriT5"
      }
    },
    {
      "cell_type": "markdown",
      "source": [
        "# Detecting and Handling outliers using boxplot and quantile based flooring-capping\n",
        "Pada code ini akan menampilkan outliers dengan menggunakan boxplot pada dataset kolom longitude. Kemudian akan melakukan handling outliers dengan metode quantile based flooring and capping."
      ],
      "metadata": {
        "id": "Hp4vyWWopJj0"
      }
    },
    {
      "cell_type": "code",
      "source": [
        "#menampilkan outliers pada data dengan metode boxplot\n",
        "df = pd.read_csv('https://raw.githubusercontent.com/bill-chpper/india-geo-dataset/main/India_cities_geo_data.csv')\n",
        "plt.boxplot(df.longitude, vert=False)\n",
        "plt.title(\"Detecting outliers using Boxplot\")\n",
        "plt.xlabel('longitude')\n",
        "plt.show()"
      ],
      "metadata": {
        "colab": {
          "base_uri": "https://localhost:8080/",
          "height": 295
        },
        "id": "6DaGKgp_EWHK",
        "outputId": "58cc436e-43fa-42eb-e0e3-2605c90a3f4d"
      },
      "execution_count": null,
      "outputs": [
        {
          "output_type": "display_data",
          "data": {
            "text/plain": [
              "<Figure size 432x288 with 1 Axes>"
            ],
            "image/png": "[encoded data removed]"
          },
          "metadata": {
            "needs_background": "light"
          }
        }
      ]
    },
    {
      "cell_type": "code",
      "source": [
        "#Handling outliers dengan quantile based flooring and capping\n",
        "tenth_percentile = np.percentile(df.longitude, 10)\n",
        "ninetieth_percentile = np.percentile(df.longitude, 90)\n",
        "print(tenth_percentile, ninetieth_percentile) \n",
        "a = np.where(df.longitude<tenth_percentile, tenth_percentile, df.longitude)\n",
        "a = np.where(a>ninetieth_percentile, ninetieth_percentile, a)"
      ],
      "metadata": {
        "colab": {
          "base_uri": "https://localhost:8080/"
        },
        "id": "Fl_l03oJUEZ-",
        "outputId": "d41770be-e469-4a2d-f0cc-46af572e13ca"
      },
      "execution_count": null,
      "outputs": [
        {
          "output_type": "stream",
          "name": "stdout",
          "text": [
            "73.902 88.36957000000001\n"
          ]
        }
      ]
    },
    {
      "cell_type": "code",
      "source": [
        "#Menggunakan boxplot untuk mengecek apakah masih ada outliers atau tidak\n",
        "plt.boxplot(a, vert=False)\n",
        "plt.title(\"Detecting outliers using Boxplot\")\n",
        "plt.xlabel('longitude')\n",
        "plt.show()"
      ],
      "metadata": {
        "colab": {
          "base_uri": "https://localhost:8080/",
          "height": 295
        },
        "id": "Lc6L320bUgPd",
        "outputId": "a1ae539f-1f09-4512-995e-9703f3485243"
      },
      "execution_count": null,
      "outputs": [
        {
          "output_type": "display_data",
          "data": {
            "text/plain": [
              "<Figure size 432x288 with 1 Axes>"
            ],
            "image/png": "[encoded data removed]"
          },
          "metadata": {
            "needs_background": "light"
          }
        }
      ]
    },
    {
      "cell_type": "markdown",
      "source": [
        "# Correlation analysis\n",
        "Analisis korelasi merupakan sebuah analisis yang digunakan untuk mengetahui keeratan hubungan antara beberapa variabel. Biasanya uji korelasi ini akan sangat berhubungan dengan uji regresi yang menunjukkan apakah masing-masing variabel saling mempengaruhi. Meskipun variabel tersebut saling berhubungan erat atau berkorelasi, belum tentu variabel tersebut saling mempengaruhi. Dalam analisis korelasi ini, output yang dihasilkan hanya dalam rentang -1 sampai 1 dan terbagi menjadi korelasi positif (hasil positif), korelasi negatif (hasil negatif), dan tidak berkorelasi sama sekali (0)."
      ],
      "metadata": {
        "id": "hWRhCdy40O2r"
      }
    },
    {
      "cell_type": "code",
      "source": [
        "#digunakan untuk mengetahui korelasi antar kolom\n",
        "df.corr()"
      ],
      "metadata": {
        "colab": {
          "base_uri": "https://localhost:8080/",
          "height": 112
        },
        "id": "leopV-gc0b3L",
        "outputId": "97b86acd-a8a4-47b9-c302-60758d9e10c6"
      },
      "execution_count": null,
      "outputs": [
        {
          "output_type": "execute_result",
          "data": {
            "text/plain": [
              "           latitude  longitude\n",
              "latitude   1.000000  -0.036484\n",
              "longitude -0.036484   1.000000"
            ],
            "text/html": [
              "\n",
              "  <div id=\"df-d1d6d856-433b-4f8e-b1d2-42e87bcb4e37\">\n",
              "    <div class=\"colab-df-container\">\n",
              "      <div>\n",
              "<style scoped>\n",
              "    .dataframe tbody tr th:only-of-type {\n",
              "        vertical-align: middle;\n",
              "    }\n",
              "\n",
              "    .dataframe tbody tr th {\n",
              "        vertical-align: top;\n",
              "    }\n",
              "\n",
              "    .dataframe thead th {\n",
              "        text-align: right;\n",
              "    }\n",
              "</style>\n",
              "<table border=\"1\" class=\"dataframe\">\n",
              "  <thead>\n",
              "    <tr style=\"text-align: right;\">\n",
              "      <th></th>\n",
              "      <th>latitude</th>\n",
              "      <th>longitude</th>\n",
              "    </tr>\n",
              "  </thead>\n",
              "  <tbody>\n",
              "    <tr>\n",
              "      <th>latitude</th>\n",
              "      <td>1.000000</td>\n",
              "      <td>-0.036484</td>\n",
              "    </tr>\n",
              "    <tr>\n",
              "      <th>longitude</th>\n",
              "      <td>-0.036484</td>\n",
              "      <td>1.000000</td>\n",
              "    </tr>\n",
              "  </tbody>\n",
              "</table>\n",
              "</div>\n",
              "      <button class=\"colab-df-convert\" onclick=\"convertToInteractive('df-d1d6d856-433b-4f8e-b1d2-42e87bcb4e37')\"\n",
              "              title=\"Convert this dataframe to an interactive table.\"\n",
              "              style=\"display:none;\">\n",
              "        \n",
              "  <svg xmlns=\"http://www.w3.org/2000/svg\" height=\"24px\"viewBox=\"0 0 24 24\"\n",
              "       width=\"24px\">\n",
              "    <path d=\"M0 0h24v24H0V0z\" fill=\"none\"/>\n",
              "    <path d=\"M18.56 5.44l.94 2.06.94-2.06 2.06-.94-2.06-.94-.94-2.06-.94 2.06-2.06.94zm-11 1L8.5 8.5l.94-2.06 2.06-.94-2.06-.94L8.5 2.5l-.94 2.06-2.06.94zm10 10l.94 2.06.94-2.06 2.06-.94-2.06-.94-.94-2.06-.94 2.06-2.06.94z\"/><path d=\"M17.41 7.96l-1.37-1.37c-.4-.4-.92-.59-1.43-.59-.52 0-1.04.2-1.43.59L10.3 9.45l-7.72 7.72c-.78.78-.78 2.05 0 2.83L4 21.41c.39.39.9.59 1.41.59.51 0 1.02-.2 1.41-.59l7.78-7.78 2.81-2.81c.8-.78.8-2.07 0-2.86zM5.41 20L4 18.59l7.72-7.72 1.47 1.35L5.41 20z\"/>\n",
              "  </svg>\n",
              "      </button>\n",
              "      \n",
              "  <style>\n",
              "    .colab-df-container {\n",
              "      display:flex;\n",
              "      flex-wrap:wrap;\n",
              "      gap: 12px;\n",
              "    }\n",
              "\n",
              "    .colab-df-convert {\n",
              "      background-color: #E8F0FE;\n",
              "      border: none;\n",
              "      border-radius: 50%;\n",
              "      cursor: pointer;\n",
              "      display: none;\n",
              "      fill: #1967D2;\n",
              "      height: 32px;\n",
              "      padding: 0 0 0 0;\n",
              "      width: 32px;\n",
              "    }\n",
              "\n",
              "    .colab-df-convert:hover {\n",
              "      background-color: #E2EBFA;\n",
              "      box-shadow: 0px 1px 2px rgba(60, 64, 67, 0.3), 0px 1px 3px 1px rgba(60, 64, 67, 0.15);\n",
              "      fill: #174EA6;\n",
              "    }\n",
              "\n",
              "    [theme=dark] .colab-df-convert {\n",
              "      background-color: #3B4455;\n",
              "      fill: #D2E3FC;\n",
              "    }\n",
              "\n",
              "    [theme=dark] .colab-df-convert:hover {\n",
              "      background-color: #434B5C;\n",
              "      box-shadow: 0px 1px 3px 1px rgba(0, 0, 0, 0.15);\n",
              "      filter: drop-shadow(0px 1px 2px rgba(0, 0, 0, 0.3));\n",
              "      fill: #FFFFFF;\n",
              "    }\n",
              "  </style>\n",
              "\n",
              "      <script>\n",
              "        const buttonEl =\n",
              "          document.querySelector('#df-d1d6d856-433b-4f8e-b1d2-42e87bcb4e37 button.colab-df-convert');\n",
              "        buttonEl.style.display =\n",
              "          google.colab.kernel.accessAllowed ? 'block' : 'none';\n",
              "\n",
              "        async function convertToInteractive(key) {\n",
              "          const element = document.querySelector('#df-d1d6d856-433b-4f8e-b1d2-42e87bcb4e37');\n",
              "          const dataTable =\n",
              "            await google.colab.kernel.invokeFunction('convertToInteractive',\n",
              "                                                     [key], {});\n",
              "          if (!dataTable) return;\n",
              "\n",
              "          const docLinkHtml = 'Like what you see? Visit the ' +\n",
              "            '<a target=\"_blank\" href=https://colab.research.google.com/notebooks/data_table.ipynb>data table notebook</a>'\n",
              "            + ' to learn more about interactive tables.';\n",
              "          element.innerHTML = '';\n",
              "          dataTable['output_type'] = 'display_data';\n",
              "          await google.colab.output.renderOutput(dataTable, element);\n",
              "          const docLink = document.createElement('div');\n",
              "          docLink.innerHTML = docLinkHtml;\n",
              "          element.appendChild(docLink);\n",
              "        }\n",
              "      </script>\n",
              "    </div>\n",
              "  </div>\n",
              "  "
            ]
          },
          "metadata": {},
          "execution_count": 22
        }
      ]
    },
    {
      "cell_type": "markdown",
      "source": [
        "Hubungan antara kolom latitude dan kolom latitude, serta kolom longitude dan kolom longitude adalah 1 yang merupakan korelasi positif dan akan saling memengaruhi. Sedangkan korelasi antara kolom latitude dan longitude adalah -0.036484 yang merupakan korelasi negatif karena memiliki hasil negatif."
      ],
      "metadata": {
        "id": "GPOsM4lk1drN"
      }
    },
    {
      "cell_type": "code",
      "source": [
        "#menampilkan korelasi antar kolom dengan bantuan visualisasi berupa heatmap\n",
        "sns.heatmap(df.corr(), cmap=\"crest\", annot=True)\n",
        "plt.show()"
      ],
      "metadata": {
        "colab": {
          "base_uri": "https://localhost:8080/",
          "height": 269
        },
        "id": "pbv-qliH1t5e",
        "outputId": "2268bce3-6f41-4966-973b-70cb987d585c"
      },
      "execution_count": null,
      "outputs": [
        {
          "output_type": "display_data",
          "data": {
            "text/plain": [
              "<Figure size 432x288 with 2 Axes>"
            ],
            "image/png": "[encoded data removed]"
          },
          "metadata": {
            "needs_background": "light"
          }
        }
      ]
    },
    {
      "cell_type": "code",
      "source": [
        "#menampilkan korelasi dengan pairplot\n",
        "sns.pairplot(df)\n",
        "plt.show"
      ],
      "metadata": {
        "colab": {
          "base_uri": "https://localhost:8080/",
          "height": 391
        },
        "id": "pl8siqJS17zE",
        "outputId": "f4ef317f-854a-4716-c3e0-24d5ab5184e9"
      },
      "execution_count": null,
      "outputs": [
        {
          "output_type": "execute_result",
          "data": {
            "text/plain": [
              "<function matplotlib.pyplot.show(*args, **kw)>"
            ]
          },
          "metadata": {},
          "execution_count": 24
        },
        {
          "output_type": "display_data",
          "data": {
            "text/plain": [
              "<Figure size 360x360 with 6 Axes>"
            ],
            "image/png": "[encoded data removed]"
          },
          "metadata": {
            "needs_background": "light"
          }
        }
      ]
    },
    {
      "cell_type": "markdown",
      "source": [
        "Pairplot adalah visualisasi korelasi data yang menggunakan berbagai jenis plot dari modul yang berbeda untuk merepresentasikan berbagai aspek kumpulan data dalam satu gambar. Kedua plot adalah fungsi figure-level dan membuat gambar dengan jumlah subplot yang banyak secara default."
      ],
      "metadata": {
        "id": "66tInVBi2oWf"
      }
    }
  ]
}